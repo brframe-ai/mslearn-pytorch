{
 "cells": [
  {
   "cell_type": "code",
   "execution_count": 1,
   "metadata": {},
   "outputs": [],
   "source": [
    "%matplotlib inline"
   ]
  },
  {
   "cell_type": "markdown",
   "metadata": {},
   "source": [
    "이 챕터는 기계 학습의 일반적인 작업을 위해 API를 통해 실행됩니다. 더 자세히 알아 보려면 각 섹션의 링크를 참조하십시오.\n",
    "\n",
    "## Working with data\n",
    "PyTorch는 두 가지 [데이터 작업을 위한 기본 요소](https://pytorch.org/docs/stable/data.html)인 ``torch.utils.data.DataLoader``, ``torch.utils.data.Dataset``가 있습니다. ``torch.utils.data.Dataset``은 사용하고자 하는 데이터 샘플 및 해당 샘플의 레이블을 저장하고, ``torch.utils.data.DataLoader``는 ``torch.utils.data.Dataset``의 레이블을 이용하여 데이터 샘플에 쉽게 접근할 수 있도록 합니다."
   ]
  },
  {
   "cell_type": "code",
   "execution_count": 2,
   "metadata": {},
   "outputs": [],
   "source": [
    "import torch\n",
    "from torch import nn\n",
    "from torch.utils.data import DataLoader\n",
    "from torchvision import datasets\n",
    "from torchvision.transforms import ToTensor, Lambda, Compose\n",
    "import matplotlib.pyplot as plt"
   ]
  },
  {
   "cell_type": "markdown",
   "metadata": {},
   "source": [
    "PyTorch는 [TorchText](https://pytorch.org/text/stable/index.html), [TorchVision](https://pytorch.org/vision/stable/index.html), [TorchAudio](https://pytorch.org/audio/stable/index.html)를 통해 각 도메인별 라이브러리를 제공합니다. 모든 라이브러리는 샘플 데이터가 포함되어 있으며, 이번 튜토리얼에서는 TorchVision 데이터를 사용합니다.\n",
    "\n",
    "``torchvision.datasets`` 모듈에는 CIFAR, COCO([full list here](https://pytorch.org/docs/stable/torchvision/datasets.html)) 등이 존재하며, 아래 예시에서는 FashionMNIST를 사용합니다. 모든 TorchVision의 ``Dataset``에는 샘플과 레이블을 각각 수정하기 위한 두 가지 인수 ``transform``, ``target_transform``가 포함됩니다."
   ]
  },
  {
   "cell_type": "code",
   "execution_count": 3,
   "metadata": {},
   "outputs": [],
   "source": [
    "# Download training data from open datasets.\n",
    "training_data = datasets.FashionMNIST(\n",
    "    root=\"data\",\n",
    "    train=True,\n",
    "    download=True,\n",
    "    transform=ToTensor(),\n",
    ")\n",
    "\n",
    "# Download test data from open datasets.\n",
    "test_data = datasets.FashionMNIST(\n",
    "    root=\"data\",\n",
    "    train=False,\n",
    "    download=True,\n",
    "    transform=ToTensor(),\n",
    ")"
   ]
  },
  {
   "cell_type": "markdown",
   "metadata": {},
   "source": [
    "``Dataset``을 ``DataLoader``에 대한 인수로 전달합니다. 이는 데이터 세트에 대한 편집 가능성, 자동 배치(automatic batching), 샘플링, 셔플링 및 multiprocess 기능을 지원합니다. 예시에서는 배치 크기를 64, 즉 데이터 읽기 영역의 각 요소는 64개의 feature와 레이블로 구성된 배치를 반환합니다."
   ]
  },
  {
   "cell_type": "code",
   "execution_count": 4,
   "metadata": {},
   "outputs": [
    {
     "name": "stdout",
     "output_type": "stream",
     "text": [
      "Shape of X [N, C, H, W]:  torch.Size([64, 1, 28, 28])\n",
      "Shape of y:  torch.Size([64]) torch.int64\n"
     ]
    }
   ],
   "source": [
    "batch_size = 64\n",
    "\n",
    "# Create data loaders.\n",
    "train_dataloader = DataLoader(training_data, batch_size=batch_size)\n",
    "test_dataloader = DataLoader(test_data, batch_size=batch_size)\n",
    "\n",
    "for X, y in test_dataloader:\n",
    "    print(\"Shape of X [N, C, H, W]: \", X.shape)\n",
    "    print(\"Shape of y: \", y.shape, y.dtype)\n",
    "    break"
   ]
  },
  {
   "cell_type": "markdown",
   "metadata": {},
   "source": [
    "## Creating models\n",
    "\n",
    "PyTorch에서 신경망을 정의하기 위해 [nn.Module](https://pytorch.org/docs/stable/generated/torch.nn.Module.html)에서 상속하는 클래스를 만들어줍니다. ``__init__`` 함수에서 Layer를 정의하고, ``forward`` 함수에서 데이터가 네트워크를 통과하는 방법을 지정합니다. 신경망에서 작업을 가속화하기 위해 가능한 경우 GPU를 사용합니다."
   ]
  },
  {
   "cell_type": "code",
   "execution_count": 5,
   "metadata": {},
   "outputs": [
    {
     "name": "stdout",
     "output_type": "stream",
     "text": [
      "Using cuda device\n",
      "NeuralNetwork(\n",
      "  (flatten): Flatten()\n",
      "  (linear_relu_stack): Sequential(\n",
      "    (0): Linear(in_features=784, out_features=512, bias=True)\n",
      "    (1): ReLU()\n",
      "    (2): Linear(in_features=512, out_features=512, bias=True)\n",
      "    (3): ReLU()\n",
      "    (4): Linear(in_features=512, out_features=10, bias=True)\n",
      "    (5): ReLU()\n",
      "  )\n",
      ")\n"
     ]
    }
   ],
   "source": [
    "# Get cpu or gpu device for training.\n",
    "device = \"cuda\" if torch.cuda.is_available() else \"cpu\"\n",
    "print(\"Using {} device\".format(device))\n",
    "\n",
    "# Define model\n",
    "class NeuralNetwork(nn.Module):\n",
    "    def __init__(self):\n",
    "        super(NeuralNetwork, self).__init__()\n",
    "        self.flatten = nn.Flatten()\n",
    "        self.linear_relu_stack = nn.Sequential(\n",
    "            nn.Linear(28*28, 512),\n",
    "            nn.ReLU(),\n",
    "            nn.Linear(512, 512),\n",
    "            nn.ReLU(),\n",
    "            nn.Linear(512, 10),\n",
    "            nn.ReLU()\n",
    "        )\n",
    "\n",
    "    def forward(self, x):\n",
    "        x = self.flatten(x)\n",
    "        logits = self.linear_relu_stack(x)\n",
    "        return logits\n",
    "\n",
    "model = NeuralNetwork().to(device)\n",
    "print(model)"
   ]
  },
  {
   "cell_type": "markdown",
   "metadata": {},
   "source": [
    "## Optimizing the Model Parameters\n",
    "\n",
    "모델을 학습하기 위해 [loss function](https://pytorch.org/docs/stable/nn.html#loss-functions>)과 [optimizer](https://pytorch.org/docs/stable/optim.html)를 사용합니다.\n",
    "\n"
   ]
  },
  {
   "cell_type": "code",
   "execution_count": 6,
   "metadata": {},
   "outputs": [],
   "source": [
    "loss_fn = nn.CrossEntropyLoss()\n",
    "learning_rate = 1e-3\n",
    "optimizer = torch.optim.SGD(model.parameters(), lr=learning_rate)"
   ]
  },
  {
   "cell_type": "markdown",
   "metadata": {},
   "source": [
    "단일 학습 루프에서 모델은 학습 데이터셋에 대한 예측을 수행하고, 예측 오차를 역전파하여 모델의 파라미터를 조정합니다.\n"
   ]
  },
  {
   "cell_type": "code",
   "execution_count": 7,
   "metadata": {},
   "outputs": [],
   "source": [
    "def train(dataloader, model, loss_fn, optimizer):\n",
    "    size = len(dataloader.dataset)\n",
    "    for batch, (X, y) in enumerate(dataloader):\n",
    "        X, y = X.to(device), y.to(device)\n",
    "        \n",
    "        # Compute prediction error\n",
    "        pred = model(X)\n",
    "        loss = loss_fn(pred, y)\n",
    "        \n",
    "        # Backpropagation\n",
    "        optimizer.zero_grad()\n",
    "        loss.backward()\n",
    "        optimizer.step()\n",
    "\n",
    "        if batch % 100 == 0:\n",
    "            loss, current = loss.item(), batch * len(X)\n",
    "            print(f\"loss: {loss:>7f}  [{current:>5d}/{size:>5d}]\")"
   ]
  },
  {
   "cell_type": "markdown",
   "metadata": {},
   "source": [
    "학습 중인지 확인하기 위해 테스트 데이터셋에 대한 모델의 성능을 확인할 수 있습니다."
   ]
  },
  {
   "cell_type": "code",
   "execution_count": 8,
   "metadata": {},
   "outputs": [],
   "source": [
    "def test(dataloader, model):\n",
    "    size = len(dataloader.dataset)\n",
    "    model.eval()\n",
    "    test_loss, correct = 0, 0\n",
    "    with torch.no_grad():\n",
    "        for X, y in dataloader:\n",
    "            X, y = X.to(device), y.to(device)\n",
    "            pred = model(X)\n",
    "            test_loss += loss_fn(pred, y).item()\n",
    "            correct += (pred.argmax(1) == y).type(torch.float).sum().item()\n",
    "    test_loss /= size\n",
    "    correct /= size\n",
    "    print(f\"Test Error: \\n Accuracy: {(100*correct):>0.1f}%, Avg loss: {test_loss:>8f} \\n\")"
   ]
  },
  {
   "cell_type": "markdown",
   "metadata": {},
   "source": [
    "훈련 프로세스는 여러 반복(*epochs*)에 걸쳐 수행됩니다. 각 epoch 동안 모델은 더 나은 예측을 위해 파라미터를 학습하며, 각 epoch에서 모델의 정확성과 loss를 출력할 수 있습니다. 또한, 매 epoch마다 정확도가 증가하고 loss가 감소하는 것을 확인할 수 있습니다."
   ]
  },
  {
   "cell_type": "code",
   "execution_count": 9,
   "metadata": {},
   "outputs": [
    {
     "name": "stdout",
     "output_type": "stream",
     "text": [
      "Epoch 1\n",
      "-------------------------------\n",
      "loss: 2.295450  [    0/60000]\n",
      "loss: 2.293073  [ 6400/60000]\n",
      "loss: 2.278504  [12800/60000]\n",
      "loss: 2.282501  [19200/60000]\n",
      "loss: 2.273211  [25600/60000]\n",
      "loss: 2.258452  [32000/60000]\n",
      "loss: 2.248237  [38400/60000]\n",
      "loss: 2.228594  [44800/60000]\n",
      "loss: 2.240276  [51200/60000]\n",
      "loss: 2.221318  [57600/60000]\n",
      "Test Error: \n",
      " Accuracy: 51.8%, Avg loss: 0.034745 \n",
      "\n",
      "Epoch 2\n",
      "-------------------------------\n",
      "loss: 2.212354  [    0/60000]\n",
      "loss: 2.207739  [ 6400/60000]\n",
      "loss: 2.160400  [12800/60000]\n",
      "loss: 2.176181  [19200/60000]\n",
      "loss: 2.168270  [25600/60000]\n",
      "loss: 2.146453  [32000/60000]\n",
      "loss: 2.119934  [38400/60000]\n",
      "loss: 2.083791  [44800/60000]\n",
      "loss: 2.126453  [51200/60000]\n",
      "loss: 2.077550  [57600/60000]\n",
      "Test Error: \n",
      " Accuracy: 53.2%, Avg loss: 0.032452 \n",
      "\n",
      "Epoch 3\n",
      "-------------------------------\n",
      "loss: 2.082280  [    0/60000]\n",
      "loss: 2.068733  [ 6400/60000]\n",
      "loss: 1.965958  [12800/60000]\n",
      "loss: 1.997126  [19200/60000]\n",
      "loss: 2.002057  [25600/60000]\n",
      "loss: 1.967370  [32000/60000]\n",
      "loss: 1.910595  [38400/60000]\n",
      "loss: 1.849006  [44800/60000]\n",
      "loss: 1.944741  [51200/60000]\n",
      "loss: 1.861265  [57600/60000]\n",
      "Test Error: \n",
      " Accuracy: 51.6%, Avg loss: 0.028937 \n",
      "\n",
      "Epoch 4\n",
      "-------------------------------\n",
      "loss: 1.872628  [    0/60000]\n",
      "loss: 1.844543  [ 6400/60000]\n",
      "loss: 1.710179  [12800/60000]\n",
      "loss: 1.779804  [19200/60000]\n",
      "loss: 1.737971  [25600/60000]\n",
      "loss: 1.746953  [32000/60000]\n",
      "loss: 1.624768  [38400/60000]\n",
      "loss: 1.575720  [44800/60000]\n",
      "loss: 1.742827  [51200/60000]\n",
      "loss: 1.653375  [57600/60000]\n",
      "Test Error: \n",
      " Accuracy: 58.4%, Avg loss: 0.025570 \n",
      "\n",
      "Epoch 5\n",
      "-------------------------------\n",
      "loss: 1.662315  [    0/60000]\n",
      "loss: 1.636235  [ 6400/60000]\n",
      "loss: 1.508407  [12800/60000]\n",
      "loss: 1.606842  [19200/60000]\n",
      "loss: 1.560728  [25600/60000]\n",
      "loss: 1.606024  [32000/60000]\n",
      "loss: 1.426900  [38400/60000]\n",
      "loss: 1.406240  [44800/60000]\n",
      "loss: 1.619918  [51200/60000]\n",
      "loss: 1.521326  [57600/60000]\n",
      "Test Error: \n",
      " Accuracy: 61.2%, Avg loss: 0.023459 \n",
      "\n",
      "Epoch 6\n",
      "-------------------------------\n",
      "loss: 1.527535  [    0/60000]\n",
      "loss: 1.511209  [ 6400/60000]\n",
      "loss: 1.377129  [12800/60000]\n",
      "loss: 1.494889  [19200/60000]\n",
      "loss: 1.457990  [25600/60000]\n",
      "loss: 1.502333  [32000/60000]\n",
      "loss: 1.291539  [38400/60000]\n",
      "loss: 1.285098  [44800/60000]\n",
      "loss: 1.484891  [51200/60000]\n",
      "loss: 1.414015  [57600/60000]\n",
      "Test Error: \n",
      " Accuracy: 62.2%, Avg loss: 0.021480 \n",
      "\n",
      "Epoch 7\n",
      "-------------------------------\n",
      "loss: 1.376779  [    0/60000]\n",
      "loss: 1.384830  [ 6400/60000]\n",
      "loss: 1.230116  [12800/60000]\n",
      "loss: 1.382574  [19200/60000]\n",
      "loss: 1.255630  [25600/60000]\n",
      "loss: 1.396211  [32000/60000]\n",
      "loss: 1.157718  [38400/60000]\n",
      "loss: 1.186382  [44800/60000]\n",
      "loss: 1.340606  [51200/60000]\n",
      "loss: 1.321607  [57600/60000]\n",
      "Test Error: \n",
      " Accuracy: 62.8%, Avg loss: 0.019737 \n",
      "\n",
      "Epoch 8\n",
      "-------------------------------\n",
      "loss: 1.243344  [    0/60000]\n",
      "loss: 1.279124  [ 6400/60000]\n",
      "loss: 1.121769  [12800/60000]\n",
      "loss: 1.293069  [19200/60000]\n",
      "loss: 1.128232  [25600/60000]\n",
      "loss: 1.315465  [32000/60000]\n",
      "loss: 1.069528  [38400/60000]\n",
      "loss: 1.123324  [44800/60000]\n",
      "loss: 1.243827  [51200/60000]\n",
      "loss: 1.255190  [57600/60000]\n",
      "Test Error: \n",
      " Accuracy: 63.4%, Avg loss: 0.018518 \n",
      "\n",
      "Epoch 9\n",
      "-------------------------------\n",
      "loss: 1.154148  [    0/60000]\n",
      "loss: 1.205280  [ 6400/60000]\n",
      "loss: 1.046463  [12800/60000]\n",
      "loss: 1.229866  [19200/60000]\n",
      "loss: 1.048813  [25600/60000]\n",
      "loss: 1.254785  [32000/60000]\n",
      "loss: 1.010614  [38400/60000]\n",
      "loss: 1.077114  [44800/60000]\n",
      "loss: 1.176766  [51200/60000]\n",
      "loss: 1.206567  [57600/60000]\n",
      "Test Error: \n",
      " Accuracy: 64.3%, Avg loss: 0.017640 \n",
      "\n",
      "Epoch 10\n",
      "-------------------------------\n",
      "loss: 1.090360  [    0/60000]\n",
      "loss: 1.149150  [ 6400/60000]\n",
      "loss: 0.990786  [12800/60000]\n",
      "loss: 1.183704  [19200/60000]\n",
      "loss: 0.997114  [25600/60000]\n",
      "loss: 1.207199  [32000/60000]\n",
      "loss: 0.967512  [38400/60000]\n",
      "loss: 1.043431  [44800/60000]\n",
      "loss: 1.127000  [51200/60000]\n",
      "loss: 1.169639  [57600/60000]\n",
      "Test Error: \n",
      " Accuracy: 65.3%, Avg loss: 0.016974 \n",
      "\n",
      "Epoch 11\n",
      "-------------------------------\n",
      "loss: 1.041194  [    0/60000]\n",
      "loss: 1.104409  [ 6400/60000]\n",
      "loss: 0.947670  [12800/60000]\n",
      "loss: 1.149421  [19200/60000]\n",
      "loss: 0.960403  [25600/60000]\n",
      "loss: 1.169899  [32000/60000]\n",
      "loss: 0.935149  [38400/60000]\n",
      "loss: 1.018250  [44800/60000]\n",
      "loss: 1.088222  [51200/60000]\n",
      "loss: 1.139813  [57600/60000]\n",
      "Test Error: \n",
      " Accuracy: 66.2%, Avg loss: 0.016446 \n",
      "\n",
      "Epoch 12\n",
      "-------------------------------\n",
      "loss: 1.000646  [    0/60000]\n",
      "loss: 1.067356  [ 6400/60000]\n",
      "loss: 0.912046  [12800/60000]\n",
      "loss: 1.122742  [19200/60000]\n",
      "loss: 0.932827  [25600/60000]\n",
      "loss: 1.138785  [32000/60000]\n",
      "loss: 0.910242  [38400/60000]\n",
      "loss: 0.999010  [44800/60000]\n",
      "loss: 1.056596  [51200/60000]\n",
      "loss: 1.114582  [57600/60000]\n",
      "Test Error: \n",
      " Accuracy: 67.5%, Avg loss: 0.016011 \n",
      "\n",
      "Epoch 13\n",
      "-------------------------------\n",
      "loss: 0.966393  [    0/60000]\n",
      "loss: 1.035691  [ 6400/60000]\n",
      "loss: 0.881672  [12800/60000]\n",
      "loss: 1.100845  [19200/60000]\n",
      "loss: 0.910265  [25600/60000]\n",
      "loss: 1.112597  [32000/60000]\n",
      "loss: 0.889558  [38400/60000]\n",
      "loss: 0.982751  [44800/60000]\n",
      "loss: 1.029199  [51200/60000]\n",
      "loss: 1.092738  [57600/60000]\n",
      "Test Error: \n",
      " Accuracy: 68.5%, Avg loss: 0.015636 \n",
      "\n",
      "Epoch 14\n",
      "-------------------------------\n",
      "loss: 0.936334  [    0/60000]\n",
      "loss: 1.007734  [ 6400/60000]\n",
      "loss: 0.854663  [12800/60000]\n",
      "loss: 1.081601  [19200/60000]\n",
      "loss: 0.890581  [25600/60000]\n",
      "loss: 1.089641  [32000/60000]\n",
      "loss: 0.872057  [38400/60000]\n",
      "loss: 0.969192  [44800/60000]\n",
      "loss: 1.005193  [51200/60000]\n",
      "loss: 1.073098  [57600/60000]\n",
      "Test Error: \n",
      " Accuracy: 69.4%, Avg loss: 0.015304 \n",
      "\n",
      "Epoch 15\n",
      "-------------------------------\n",
      "loss: 0.908971  [    0/60000]\n",
      "loss: 0.982067  [ 6400/60000]\n",
      "loss: 0.830095  [12800/60000]\n",
      "loss: 1.064921  [19200/60000]\n",
      "loss: 0.874204  [25600/60000]\n",
      "loss: 1.069008  [32000/60000]\n",
      "loss: 0.856447  [38400/60000]\n",
      "loss: 0.957340  [44800/60000]\n",
      "loss: 0.983547  [51200/60000]\n",
      "loss: 1.055251  [57600/60000]\n",
      "Test Error: \n",
      " Accuracy: 70.3%, Avg loss: 0.015001 \n",
      "\n",
      "Done!\n"
     ]
    }
   ],
   "source": [
    "epochs = 15\n",
    "for t in range(epochs):\n",
    "    print(f\"Epoch {t+1}\\n-------------------------------\")\n",
    "    train(train_dataloader, model, loss_fn, optimizer)\n",
    "    test(test_dataloader, model)\n",
    "print(\"Done!\")"
   ]
  },
  {
   "cell_type": "markdown",
   "metadata": {},
   "source": [
    "모델이 처음에는 성능이 좋지 않다는 것을 알았을 것입니다. 더 많은 `epochs`에 대해 루프를 실행하거나 `learning_rate`를 더 큰 숫자로 조정해보세요. 또한 우리가 선택한 모델 구성이 이러한 종류의 문제에 대한 최적의 구성이 아닐 수도 있습니다. 이후 과정에서는 Vision 문제에 대해 작동하는 모델 구조에 대해 자세히 알아볼 것입니다."
   ]
  },
  {
   "cell_type": "markdown",
   "metadata": {},
   "source": [
    "Saving Models\n",
    "-------------\n",
    "모델을 저장하는 일반적인 방법은 internal state dictionary을 직렬화하는 것입니다."
   ]
  },
  {
   "cell_type": "code",
   "execution_count": 10,
   "metadata": {},
   "outputs": [
    {
     "name": "stdout",
     "output_type": "stream",
     "text": [
      "Saved PyTorch Model State to model.pth\n"
     ]
    }
   ],
   "source": [
    "torch.save(model.state_dict(), \"data/model.pth\")\n",
    "print(\"Saved PyTorch Model State to model.pth\")"
   ]
  },
  {
   "cell_type": "markdown",
   "metadata": {},
   "source": [
    "Loading Models\n",
    "----------------------------\n",
    "\n",
    "모델을 불러오는 프로세스에는 모델 구조를 다시 만들고 state를 불러오는 작업이 포함됩니다."
   ]
  },
  {
   "cell_type": "code",
   "execution_count": 11,
   "metadata": {},
   "outputs": [
    {
     "data": {
      "text/plain": [
       "<All keys matched successfully>"
      ]
     },
     "execution_count": 11,
     "metadata": {},
     "output_type": "execute_result"
    }
   ],
   "source": [
    "model = NeuralNetwork()\n",
    "model.load_state_dict(torch.load(\"data/model.pth\"))"
   ]
  },
  {
   "cell_type": "markdown",
   "metadata": {},
   "source": [
    "이제 이 모델을 사용하여 예측할 수 있습니다."
   ]
  },
  {
   "cell_type": "code",
   "execution_count": 12,
   "metadata": {},
   "outputs": [
    {
     "name": "stdout",
     "output_type": "stream",
     "text": [
      "Predicted: \"Ankle boot\", Actual: \"Ankle boot\"\n"
     ]
    }
   ],
   "source": [
    "classes = [\n",
    "    \"T-shirt/top\",\n",
    "    \"Trouser\",\n",
    "    \"Pullover\",\n",
    "    \"Dress\",\n",
    "    \"Coat\",\n",
    "    \"Sandal\",\n",
    "    \"Shirt\",\n",
    "    \"Sneaker\",\n",
    "    \"Bag\",\n",
    "    \"Ankle boot\",\n",
    "]\n",
    "\n",
    "model.eval()\n",
    "x, y = test_data[0][0], test_data[0][1]\n",
    "with torch.no_grad():\n",
    "    pred = model(x)\n",
    "    predicted, actual = classes[pred[0].argmax(0)], classes[y]\n",
    "    print(f'Predicted: \"{predicted}\", Actual: \"{actual}\"')"
   ]
  }
 ],
 "metadata": {
  "kernelspec": {
   "display_name": "Python 3",
   "language": "python",
   "name": "python3"
  },
  "language_info": {
   "codemirror_mode": {
    "name": "ipython",
    "version": 3
   },
   "file_extension": ".py",
   "mimetype": "text/x-python",
   "name": "python",
   "nbconvert_exporter": "python",
   "pygments_lexer": "ipython3",
   "version": "3.8.5"
  },
  "nteract": {
   "version": "nteract-front-end@1.0.0"
  }
 },
 "nbformat": 4,
 "nbformat_minor": 1
}
